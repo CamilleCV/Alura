{
 "cells": [
  {
   "cell_type": "markdown",
   "metadata": {},
   "source": [
    "Curso ministrado por Guilherme Silveira\n",
    "\n",
    "** Machine Learning:** *validação de modelos*"
   ]
  },
  {
   "cell_type": "markdown",
   "metadata": {},
   "source": [
    "## Setup do Curso"
   ]
  },
  {
   "cell_type": "markdown",
   "metadata": {},
   "source": [
    "### Importando as Bibliotecas"
   ]
  },
  {
   "cell_type": "code",
   "execution_count": 103,
   "metadata": {},
   "outputs": [],
   "source": [
    "import pandas as pd"
   ]
  },
  {
   "cell_type": "markdown",
   "metadata": {},
   "source": [
    "Importando os Dados"
   ]
  },
  {
   "cell_type": "code",
   "execution_count": 104,
   "metadata": {},
   "outputs": [
    {
     "data": {
      "text/html": [
       "<div>\n",
       "<style scoped>\n",
       "    .dataframe tbody tr th:only-of-type {\n",
       "        vertical-align: middle;\n",
       "    }\n",
       "\n",
       "    .dataframe tbody tr th {\n",
       "        vertical-align: top;\n",
       "    }\n",
       "\n",
       "    .dataframe thead th {\n",
       "        text-align: right;\n",
       "    }\n",
       "</style>\n",
       "<table border=\"1\" class=\"dataframe\">\n",
       "  <thead>\n",
       "    <tr style=\"text-align: right;\">\n",
       "      <th></th>\n",
       "      <th>preco</th>\n",
       "      <th>vendido</th>\n",
       "      <th>idade_do_modelo</th>\n",
       "      <th>km_por_ano</th>\n",
       "    </tr>\n",
       "  </thead>\n",
       "  <tbody>\n",
       "    <tr>\n",
       "      <th>0</th>\n",
       "      <td>30941.02</td>\n",
       "      <td>1</td>\n",
       "      <td>18</td>\n",
       "      <td>35085.22134</td>\n",
       "    </tr>\n",
       "    <tr>\n",
       "      <th>1</th>\n",
       "      <td>40557.96</td>\n",
       "      <td>1</td>\n",
       "      <td>20</td>\n",
       "      <td>12622.05362</td>\n",
       "    </tr>\n",
       "    <tr>\n",
       "      <th>2</th>\n",
       "      <td>89627.50</td>\n",
       "      <td>0</td>\n",
       "      <td>12</td>\n",
       "      <td>11440.79806</td>\n",
       "    </tr>\n",
       "    <tr>\n",
       "      <th>3</th>\n",
       "      <td>95276.14</td>\n",
       "      <td>0</td>\n",
       "      <td>3</td>\n",
       "      <td>43167.32682</td>\n",
       "    </tr>\n",
       "    <tr>\n",
       "      <th>4</th>\n",
       "      <td>117384.68</td>\n",
       "      <td>1</td>\n",
       "      <td>4</td>\n",
       "      <td>12770.11290</td>\n",
       "    </tr>\n",
       "  </tbody>\n",
       "</table>\n",
       "</div>"
      ],
      "text/plain": [
       "       preco  vendido  idade_do_modelo   km_por_ano\n",
       "0   30941.02        1               18  35085.22134\n",
       "1   40557.96        1               20  12622.05362\n",
       "2   89627.50        0               12  11440.79806\n",
       "3   95276.14        0                3  43167.32682\n",
       "4  117384.68        1                4  12770.11290"
      ]
     },
     "execution_count": 104,
     "metadata": {},
     "output_type": "execute_result"
    }
   ],
   "source": [
    "uri = \"https://gist.githubusercontent.com/guilhermesilveira/e99a526b2e7ccc6c3b70f53db43a87d2/raw/1605fc74aa778066bf2e6695e24d53cf65f2f447/machine-learning-carros-simulacao.csv\"\n",
    "\n",
    "dados = pd.read_csv(uri).drop(columns=[\"Unnamed: 0\"], axis=1)\n",
    "\n",
    "dados.head()"
   ]
  },
  {
   "cell_type": "markdown",
   "metadata": {},
   "source": [
    "# Machine Learning Models"
   ]
  },
  {
   "cell_type": "markdown",
   "metadata": {},
   "source": [
    "## Análises Iniciais"
   ]
  },
  {
   "cell_type": "code",
   "execution_count": 105,
   "metadata": {},
   "outputs": [
    {
     "name": "stdout",
     "output_type": "stream",
     "text": [
      "Treinaremos com 7500 elementos e testaremos com 2500 elementos\n"
     ]
    }
   ],
   "source": [
    "import numpy as np\n",
    "from sklearn.model_selection import train_test_split\n",
    "from sklearn.svm import LinearSVC\n",
    "from sklearn.metrics import accuracy_score\n",
    "\n",
    "x = dados[[\"preco\", \"idade_do_modelo\",\"km_por_ano\"]]\n",
    "y = dados[\"vendido\"]\n",
    "\n",
    "SEED = 158020\n",
    "np.random.seed(SEED)\n",
    "treino_x, teste_x, treino_y, teste_y = train_test_split(x, y, test_size = 0.25,\n",
    "                                                         stratify = y)\n",
    "print(\"Treinaremos com %d elementos e testaremos com %d elementos\" % (len(treino_x), len(teste_x)))"
   ]
  },
  {
   "cell_type": "code",
   "execution_count": 106,
   "metadata": {},
   "outputs": [
    {
     "name": "stdout",
     "output_type": "stream",
     "text": [
      "A acurácia do dummy stratified foi de 52.72%\n"
     ]
    }
   ],
   "source": [
    "from sklearn.dummy import DummyClassifier\n",
    "\n",
    "dummy_stratified = DummyClassifier(strategy='stratified', random_state=SEED)\n",
    "dummy_stratified.fit(treino_x, treino_y)\n",
    "acuracia = dummy_stratified.score(teste_x, teste_y) * 100\n",
    "\n",
    "print(\"A acurácia do dummy stratified foi de %.2f%%\" % acuracia)"
   ]
  },
  {
   "cell_type": "code",
   "execution_count": 107,
   "metadata": {},
   "outputs": [
    {
     "name": "stdout",
     "output_type": "stream",
     "text": [
      "A acurácia foi 71.92%\n"
     ]
    }
   ],
   "source": [
    "from sklearn.tree import DecisionTreeClassifier\n",
    "\n",
    "SEED = 158020\n",
    "np.random.seed(SEED)\n",
    "modelo = DecisionTreeClassifier(max_depth=2)\n",
    "modelo.fit(treino_x, treino_y)\n",
    "previsoes = modelo.predict(teste_x)\n",
    "\n",
    "acuracia = accuracy_score(teste_y, previsoes) * 100\n",
    "print (\"A acurácia foi %.2f%%\" % acuracia)"
   ]
  },
  {
   "cell_type": "markdown",
   "metadata": {},
   "source": [
    "Alterando o Seed:"
   ]
  },
  {
   "cell_type": "code",
   "execution_count": 108,
   "metadata": {},
   "outputs": [
    {
     "name": "stdout",
     "output_type": "stream",
     "text": [
      "Treinaremos com 7500 elementos e testaremos com 2500 elementos\n",
      "A acurácia do dummy stratified foi de 50.04%\n",
      "A acurácia foi 75.48%\n"
     ]
    }
   ],
   "source": [
    "import numpy as np\n",
    "from sklearn.model_selection import train_test_split\n",
    "from sklearn.svm import LinearSVC\n",
    "from sklearn.metrics import accuracy_score\n",
    "from sklearn.tree import DecisionTreeClassifier\n",
    "\n",
    "x = dados[[\"preco\", \"idade_do_modelo\",\"km_por_ano\"]]\n",
    "y = dados[\"vendido\"]\n",
    "\n",
    "SEED = 0\n",
    "np.random.seed(SEED)\n",
    "treino_x, teste_x, treino_y, teste_y = train_test_split(x, y, test_size = 0.25,\n",
    "                                                         stratify = y)\n",
    "print(\"Treinaremos com %d elementos e testaremos com %d elementos\" % (len(treino_x), len(teste_x)))\n",
    "\n",
    "\n",
    "dummy_stratified = DummyClassifier(strategy='stratified', random_state=SEED)\n",
    "dummy_stratified.fit(treino_x, treino_y)\n",
    "acuracia = dummy_stratified.score(teste_x, teste_y) * 100\n",
    "print(\"A acurácia do dummy stratified foi de %.2f%%\" % acuracia)\n",
    "\n",
    "\n",
    "modelo = DecisionTreeClassifier(max_depth=2)\n",
    "modelo.fit(treino_x, treino_y)\n",
    "previsoes = modelo.predict(teste_x)\n",
    "acuracia = accuracy_score(teste_y, previsoes) * 100\n",
    "print (\"A acurácia foi %.2f%%\" % acuracia)"
   ]
  },
  {
   "cell_type": "markdown",
   "metadata": {},
   "source": [
    "O modelo apresenta um valor elevado da *acurácia*. <p>\n",
    "Entretanto, o valor está dependendo do valor do SEED, que representa uma aleatoriedade... <p>\n",
    "E não é legal ter o modelo dependendo da aleatoriedade."
   ]
  },
  {
   "cell_type": "markdown",
   "metadata": {},
   "source": [
    "### Validação Cruzada"
   ]
  },
  {
   "cell_type": "code",
   "execution_count": 109,
   "metadata": {},
   "outputs": [
    {
     "name": "stdout",
     "output_type": "stream",
     "text": [
      "Os resultados das três separações foram: [0.75704859 0.7629763  0.75337534]\n",
      "Acurácia está entre 74.99% e 76.57%\n"
     ]
    }
   ],
   "source": [
    "from sklearn.model_selection import cross_validate\n",
    "\n",
    "modelo = DecisionTreeClassifier(max_depth=2)\n",
    "resultados = cross_validate(modelo, x, y, cv = 3, return_train_score=False)\n",
    "resultados['test_score']\n",
    "print('Os resultados das três separações foram:', resultados['test_score'])\n",
    "\n",
    "media = resultados['test_score'].mean()\n",
    "desvio = resultados['test_score'].std()\n",
    "print('Acurácia está entre %.2f%% e %.2f%%' % ((media - 2 * desvio)*100 , (media + 2 * desvio)*100))"
   ]
  },
  {
   "cell_type": "markdown",
   "metadata": {},
   "source": [
    "Alguns *papers* indicam que o *cross validation* ideal seria entre 5 e 10. <p>\n",
    "O *Cross Validation* não depende da aleatoriedade, sendo um modelo determinístico."
   ]
  },
  {
   "cell_type": "markdown",
   "metadata": {},
   "source": [
    "### Kfold com aleatorização"
   ]
  },
  {
   "cell_type": "code",
   "execution_count": 110,
   "metadata": {},
   "outputs": [],
   "source": [
    "def imprime_resultados(resultados):\n",
    "    media = resultados['test_score'].mean()\n",
    "    desvio = resultados['test_score'].std()\n",
    "    print('Média é de %0.2f%%' % (media*100))\n",
    "    print('Acurácia está entre %.2f%% e %.2f%%' % ((media - 2 * desvio)*100 , (media + 2 * desvio)*100))"
   ]
  },
  {
   "cell_type": "code",
   "execution_count": 111,
   "metadata": {},
   "outputs": [
    {
     "name": "stdout",
     "output_type": "stream",
     "text": [
      "Sem o Shuffle:\n",
      "Média é de 75.78%\n",
      "Acurácia está entre 74.37% e 77.19%\n"
     ]
    }
   ],
   "source": [
    "from sklearn.model_selection import KFold\n",
    "\n",
    "SEED = 0\n",
    "np.random.seed(SEED)\n",
    "\n",
    "cv = KFold(n_splits=10)\n",
    "modelo = DecisionTreeClassifier(max_depth=2)\n",
    "resultados = cross_validate(modelo, x, y, cv = cv, return_train_score=False)\n",
    "resultados['test_score']\n",
    "\n",
    "print('Sem o Shuffle:')\n",
    "imprime_resultados(resultados)"
   ]
  },
  {
   "cell_type": "code",
   "execution_count": 112,
   "metadata": {},
   "outputs": [
    {
     "name": "stdout",
     "output_type": "stream",
     "text": [
      "Com o Shuffle:\n",
      "Média é de 75.78%\n",
      "Acurácia está entre 73.79% e 77.77%\n"
     ]
    }
   ],
   "source": [
    "from sklearn.model_selection import KFold\n",
    "\n",
    "SEED = 0\n",
    "np.random.seed(SEED)\n",
    "\n",
    "cv = KFold(n_splits=10, shuffle=True)\n",
    "modelo = DecisionTreeClassifier(max_depth=2)\n",
    "resultados = cross_validate(modelo, x, y, cv = cv, return_train_score=False)\n",
    "resultados['test_score']\n",
    "\n",
    "print('Com o Shuffle:')\n",
    "imprime_resultados(resultados)"
   ]
  },
  {
   "cell_type": "markdown",
   "metadata": {},
   "source": [
    "### Stratificação do KFold"
   ]
  },
  {
   "cell_type": "markdown",
   "metadata": {},
   "source": [
    "Utilizado quando existe o desbalanço entre as classes, sendo mais indicado do que o *KFold*"
   ]
  },
  {
   "cell_type": "code",
   "execution_count": 113,
   "metadata": {},
   "outputs": [
    {
     "name": "stdout",
     "output_type": "stream",
     "text": [
      "Com o Shuffle:\n",
      "Média é de 75.78%\n",
      "Acurácia está entre 73.35% e 78.21%\n"
     ]
    }
   ],
   "source": [
    "from sklearn.model_selection import StratifiedKFold\n",
    "\n",
    "SEED = 0\n",
    "np.random.seed(SEED)\n",
    "\n",
    "cv = StratifiedKFold(n_splits=10, shuffle=True)\n",
    "modelo = DecisionTreeClassifier(max_depth=2)\n",
    "resultados = cross_validate(modelo, x, y, cv = cv, return_train_score=False)\n",
    "resultados['test_score']\n",
    "\n",
    "print('Com o Shuffle:')\n",
    "imprime_resultados(resultados)"
   ]
  },
  {
   "cell_type": "markdown",
   "metadata": {},
   "source": [
    "### Aleatoriedade com Agrupamento"
   ]
  },
  {
   "cell_type": "markdown",
   "metadata": {},
   "source": [
    "Gerando dados aleatórios para avaliação do modelo para a validação do estimador"
   ]
  },
  {
   "cell_type": "code",
   "execution_count": 114,
   "metadata": {},
   "outputs": [
    {
     "data": {
      "text/html": [
       "<div>\n",
       "<style scoped>\n",
       "    .dataframe tbody tr th:only-of-type {\n",
       "        vertical-align: middle;\n",
       "    }\n",
       "\n",
       "    .dataframe tbody tr th {\n",
       "        vertical-align: top;\n",
       "    }\n",
       "\n",
       "    .dataframe thead th {\n",
       "        text-align: right;\n",
       "    }\n",
       "</style>\n",
       "<table border=\"1\" class=\"dataframe\">\n",
       "  <thead>\n",
       "    <tr style=\"text-align: right;\">\n",
       "      <th></th>\n",
       "      <th>preco</th>\n",
       "      <th>vendido</th>\n",
       "      <th>idade_do_modelo</th>\n",
       "      <th>km_por_ano</th>\n",
       "      <th>modelo</th>\n",
       "    </tr>\n",
       "  </thead>\n",
       "  <tbody>\n",
       "    <tr>\n",
       "      <th>0</th>\n",
       "      <td>30941.02</td>\n",
       "      <td>1</td>\n",
       "      <td>18</td>\n",
       "      <td>35085.22134</td>\n",
       "      <td>22</td>\n",
       "    </tr>\n",
       "    <tr>\n",
       "      <th>1</th>\n",
       "      <td>40557.96</td>\n",
       "      <td>1</td>\n",
       "      <td>20</td>\n",
       "      <td>12622.05362</td>\n",
       "      <td>20</td>\n",
       "    </tr>\n",
       "    <tr>\n",
       "      <th>2</th>\n",
       "      <td>89627.50</td>\n",
       "      <td>0</td>\n",
       "      <td>12</td>\n",
       "      <td>11440.79806</td>\n",
       "      <td>15</td>\n",
       "    </tr>\n",
       "    <tr>\n",
       "      <th>3</th>\n",
       "      <td>95276.14</td>\n",
       "      <td>0</td>\n",
       "      <td>3</td>\n",
       "      <td>43167.32682</td>\n",
       "      <td>6</td>\n",
       "    </tr>\n",
       "    <tr>\n",
       "      <th>4</th>\n",
       "      <td>117384.68</td>\n",
       "      <td>1</td>\n",
       "      <td>4</td>\n",
       "      <td>12770.11290</td>\n",
       "      <td>7</td>\n",
       "    </tr>\n",
       "  </tbody>\n",
       "</table>\n",
       "</div>"
      ],
      "text/plain": [
       "       preco  vendido  idade_do_modelo   km_por_ano  modelo\n",
       "0   30941.02        1               18  35085.22134      22\n",
       "1   40557.96        1               20  12622.05362      20\n",
       "2   89627.50        0               12  11440.79806      15\n",
       "3   95276.14        0                3  43167.32682       6\n",
       "4  117384.68        1                4  12770.11290       7"
      ]
     },
     "execution_count": 114,
     "metadata": {},
     "output_type": "execute_result"
    }
   ],
   "source": [
    "np.random.seed(SEED)\n",
    "dados['modelo'] = dados['idade_do_modelo'] + np.random.randint(-2, 3, size=10000)\n",
    "dados['modelo'] = dados['modelo'] + abs(dados['modelo'].min()) +1\n",
    "dados.head()"
   ]
  },
  {
   "cell_type": "code",
   "execution_count": 115,
   "metadata": {},
   "outputs": [
    {
     "data": {
      "text/plain": [
       "20    836\n",
       "19    797\n",
       "21    762\n",
       "18    734\n",
       "16    717\n",
       "17    709\n",
       "15    628\n",
       "14    602\n",
       "22    573\n",
       "13    543\n",
       "12    463\n",
       "11    424\n",
       "23    394\n",
       "10    394\n",
       "9     315\n",
       "8     280\n",
       "7     224\n",
       "24    183\n",
       "6     178\n",
       "5      97\n",
       "4      82\n",
       "3      37\n",
       "2      20\n",
       "1       8\n",
       "Name: modelo, dtype: int64"
      ]
     },
     "execution_count": 115,
     "metadata": {},
     "output_type": "execute_result"
    }
   ],
   "source": [
    "dados['modelo'].value_counts()"
   ]
  },
  {
   "cell_type": "code",
   "execution_count": 122,
   "metadata": {},
   "outputs": [
    {
     "name": "stdout",
     "output_type": "stream",
     "text": [
      "Com o Shuffle:\n",
      "Média é de 75.80%\n",
      "Acurácia está entre 71.18% e 80.41%\n"
     ]
    }
   ],
   "source": [
    "from sklearn.model_selection import GroupKFold\n",
    "\n",
    "SEED = 0\n",
    "np.random.seed(SEED)\n",
    "\n",
    "cv = GroupKFold(n_splits=10)\n",
    "modelo = DecisionTreeClassifier(max_depth=2)\n",
    "resultados = cross_validate(modelo, x, y, groups = dados['modelo'], cv = cv, return_train_score=False)\n",
    "resultados['test_score']\n",
    "\n",
    "print('Com o Shuffle:')\n",
    "imprime_resultados(resultados)"
   ]
  },
  {
   "cell_type": "markdown",
   "metadata": {},
   "source": [
    "### Cross Validation com *StandardScaler*"
   ]
  },
  {
   "cell_type": "code",
   "execution_count": 129,
   "metadata": {},
   "outputs": [
    {
     "name": "stdout",
     "output_type": "stream",
     "text": [
      "A acurácia foi 76.64%\n"
     ]
    }
   ],
   "source": [
    "from sklearn.preprocessing import StandardScaler\n",
    "from sklearn.svm import SVC\n",
    "\n",
    "SEED = 0\n",
    "np.random.seed(SEED)\n",
    "\n",
    "scaler = StandardScaler()\n",
    "scaler.fit(treino_x)\n",
    "treino_x_escalado = scaler.transform(treino_x)\n",
    "teste_x_escalado = scaler.transform(teste_x)\n",
    "\n",
    "\n",
    "modelo = SVC()\n",
    "modelo.fit(treino_x_escalado, treino_y)\n",
    "previsoes = modelo.predict(teste_x_escalado)\n",
    "acuracia = accuracy_score(teste_y, previsoes) * 100\n",
    "print (\"A acurácia foi %.2f%%\" % acuracia)"
   ]
  },
  {
   "cell_type": "code",
   "execution_count": 130,
   "metadata": {},
   "outputs": [
    {
     "name": "stdout",
     "output_type": "stream",
     "text": [
      "Com o Shuffle:\n",
      "Média é de 77.25%\n",
      "Acurácia está entre 72.87% e 81.64%\n"
     ]
    }
   ],
   "source": [
    "SEED = 0\n",
    "np.random.seed(SEED)\n",
    "\n",
    "cv = GroupKFold(n_splits=10)\n",
    "modelo = SVC()\n",
    "resultados = cross_validate(modelo, x, y, groups = dados['modelo'], cv = cv, return_train_score=False)\n",
    "resultados['test_score']\n",
    "\n",
    "print('Utilizando o ')\n",
    "imprime_resultados(resultados)"
   ]
  },
  {
   "cell_type": "markdown",
   "metadata": {},
   "source": []
  },
  {
   "cell_type": "code",
   "execution_count": 132,
   "metadata": {},
   "outputs": [
    {
     "name": "stdout",
     "output_type": "stream",
     "text": [
      "Média é de 76.77%\n",
      "Acurácia está entre 73.06% e 80.48%\n"
     ]
    }
   ],
   "source": [
    "from sklearn.pipeline import Pipeline\n",
    "\n",
    "SEED = 0\n",
    "np.random.seed(SEED)\n",
    "\n",
    "\n",
    "scaler = StandardScaler()\n",
    "modelo = SVC()\n",
    "\n",
    "pipeline = Pipeline([('Transformação', scaler), ('Estimador', modelo)])\n",
    "pipeline\n",
    "\n",
    "\n",
    "cv = GroupKFold(n_splits=10)\n",
    "resultados = cross_validate(pipeline, x, y, groups = dados['modelo'], cv = cv, return_train_score=False)\n",
    "resultados['test_score']\n",
    "\n",
    "imprime_resultados(resultados)"
   ]
  },
  {
   "cell_type": "code",
   "execution_count": null,
   "metadata": {},
   "outputs": [],
   "source": []
  },
  {
   "cell_type": "code",
   "execution_count": null,
   "metadata": {},
   "outputs": [],
   "source": []
  }
 ],
 "metadata": {
  "kernelspec": {
   "display_name": "Python 3.10.6 64-bit",
   "language": "python",
   "name": "python3"
  },
  "language_info": {
   "codemirror_mode": {
    "name": "ipython",
    "version": 3
   },
   "file_extension": ".py",
   "mimetype": "text/x-python",
   "name": "python",
   "nbconvert_exporter": "python",
   "pygments_lexer": "ipython3",
   "version": "3.10.6"
  },
  "orig_nbformat": 4,
  "vscode": {
   "interpreter": {
    "hash": "916dbcbb3f70747c44a77c7bcd40155683ae19c65e1c03b4aa3499c5328201f1"
   }
  }
 },
 "nbformat": 4,
 "nbformat_minor": 2
}
