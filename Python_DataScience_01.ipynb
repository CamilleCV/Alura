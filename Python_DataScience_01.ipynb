{
  "nbformat": 4,
  "nbformat_minor": 0,
  "metadata": {
    "colab": {
      "provenance": [],
      "authorship_tag": "ABX9TyM5mzWAkB6S1wRRF5E39x8W",
      "include_colab_link": true
    },
    "kernelspec": {
      "name": "python3",
      "display_name": "Python 3"
    },
    "language_info": {
      "name": "python"
    }
  },
  "cells": [
    {
      "cell_type": "markdown",
      "metadata": {
        "id": "view-in-github",
        "colab_type": "text"
      },
      "source": [
        "<a href=\"https://colab.research.google.com/github/CamilleCV/Alura/blob/main/Python_DataScience_01.ipynb\" target=\"_parent\"><img src=\"https://colab.research.google.com/assets/colab-badge.svg\" alt=\"Open In Colab\"/></a>"
      ]
    },
    {
      "cell_type": "markdown",
      "source": [
        "# Introdução ao Python\n",
        "\n",
        "* Para uma string, usamos \" \" ou ' '. Entretando, o mais comum é usar ' '.\n",
        "* Para usar uma função, usamos o ()."
      ],
      "metadata": {
        "id": "I-G8c28aT3gW"
      }
    },
    {
      "cell_type": "code",
      "execution_count": 1,
      "metadata": {
        "colab": {
          "base_uri": "https://localhost:8080/"
        },
        "id": "RtOILFXNSwGS",
        "outputId": "5f62fed3-b769-47ed-b8b0-ab8836bf5b28"
      },
      "outputs": [
        {
          "output_type": "execute_result",
          "data": {
            "text/plain": [
              "2"
            ]
          },
          "metadata": {},
          "execution_count": 1
        }
      ],
      "source": [
        "1+1"
      ]
    },
    {
      "cell_type": "code",
      "source": [
        "nome = \"Camille\""
      ],
      "metadata": {
        "id": "QfQT3bDXTwVF"
      },
      "execution_count": 5,
      "outputs": []
    },
    {
      "cell_type": "markdown",
      "source": [],
      "metadata": {
        "id": "W3W-tiCqTrDZ"
      }
    },
    {
      "cell_type": "code",
      "source": [
        "idade = 29"
      ],
      "metadata": {
        "id": "Hy_cCpt9UU6Q"
      },
      "execution_count": 3,
      "outputs": []
    },
    {
      "cell_type": "code",
      "source": [
        "nome"
      ],
      "metadata": {
        "colab": {
          "base_uri": "https://localhost:8080/",
          "height": 35
        },
        "id": "ADOmo7r9UYDY",
        "outputId": "4524327d-9089-403a-c3e1-4483cce2a0c8"
      },
      "execution_count": 13,
      "outputs": [
        {
          "output_type": "execute_result",
          "data": {
            "text/plain": [
              "'Camille'"
            ],
            "application/vnd.google.colaboratory.intrinsic+json": {
              "type": "string"
            }
          },
          "metadata": {},
          "execution_count": 13
        }
      ]
    },
    {
      "cell_type": "code",
      "source": [
        "idade\n"
      ],
      "metadata": {
        "colab": {
          "base_uri": "https://localhost:8080/"
        },
        "id": "3evTJOejUZiL",
        "outputId": "5db99574-545e-41a5-ea26-b8aafe60712d"
      },
      "execution_count": 7,
      "outputs": [
        {
          "output_type": "execute_result",
          "data": {
            "text/plain": [
              "29"
            ]
          },
          "metadata": {},
          "execution_count": 7
        }
      ]
    },
    {
      "cell_type": "code",
      "source": [
        "print(f'O nome é {nome} e a sua idade é {idade} anos')"
      ],
      "metadata": {
        "colab": {
          "base_uri": "https://localhost:8080/"
        },
        "id": "KgRgu0rRUeVH",
        "outputId": "dacbfd2a-9067-400a-806b-5c4e8f476e6f"
      },
      "execution_count": 8,
      "outputs": [
        {
          "output_type": "stream",
          "name": "stdout",
          "text": [
            "O nome é Camille e a sua idade é 29 anos\n"
          ]
        }
      ]
    },
    {
      "cell_type": "code",
      "source": [
        "idade = idade+1"
      ],
      "metadata": {
        "id": "U0w5iqskVDZE"
      },
      "execution_count": 9,
      "outputs": []
    },
    {
      "cell_type": "code",
      "source": [
        "print(f'O nome é {nome} e a sua idade é {idade} anos')  # O f permite que eu concatene a string com a variável."
      ],
      "metadata": {
        "colab": {
          "base_uri": "https://localhost:8080/"
        },
        "id": "t_NrkDnNVFBt",
        "outputId": "aede150d-b401-416f-c64d-d53d9b5bc3f4"
      },
      "execution_count": 10,
      "outputs": [
        {
          "output_type": "stream",
          "name": "stdout",
          "text": [
            "O nome é Camille e a sua idade é 30 anos\n"
          ]
        }
      ]
    },
    {
      "cell_type": "code",
      "source": [],
      "metadata": {
        "id": "TaaLCX2wVG18"
      },
      "execution_count": null,
      "outputs": []
    },
    {
      "cell_type": "markdown",
      "source": [
        "### Criando minha Primeira Função\n",
        "\n",
        "* def é para definir a função"
      ],
      "metadata": {
        "id": "4Yxak3atVPnh"
      }
    },
    {
      "cell_type": "code",
      "source": [
        "def saudacao():\n",
        "  nome = input ('Qual o seu nome?')\n",
        "  print(f'Olá, {nome}')"
      ],
      "metadata": {
        "id": "cF-0cVngVSbZ"
      },
      "execution_count": 11,
      "outputs": []
    },
    {
      "cell_type": "code",
      "source": [
        "saudacao()"
      ],
      "metadata": {
        "colab": {
          "base_uri": "https://localhost:8080/"
        },
        "id": "pBqKZLdWV5Ma",
        "outputId": "7d570164-8ac1-4987-dfa7-16d008319bee"
      },
      "execution_count": 12,
      "outputs": [
        {
          "output_type": "stream",
          "name": "stdout",
          "text": [
            "Qual o seu nome?Natsu\n",
            "Olá, Natsu\n"
          ]
        }
      ]
    },
    {
      "cell_type": "code",
      "source": [
        "### O que é Python:\n",
        "\n",
        "* Linguagem de Programação de Alto Nível.\n",
        "  * Muito mais eficiente do que o Assembly.\n",
        "  * É semelhante à Linguagem Humana \n"
      ],
      "metadata": {
        "id": "T35IGWS5V6xF"
      },
      "execution_count": 12,
      "outputs": []
    },
    {
      "cell_type": "code",
      "source": [
        "def nome_completo():\n",
        " primeiro_nome = input('Qual seu primeiro nome? ')\n",
        " sobrenome = input('Qual seu sobrenome? ')\n",
        " nome_inteiro = primeiro_nome + ' ' + sobrenome\n",
        " print(nome_inteiro)\n",
        "\n",
        "nome_completo()\n",
        " "
      ],
      "metadata": {
        "colab": {
          "base_uri": "https://localhost:8080/"
        },
        "id": "KK7Swc9AXnoB",
        "outputId": "d83e09e9-268d-4b9c-e2eb-02446b6a3a3d"
      },
      "execution_count": 16,
      "outputs": [
        {
          "output_type": "stream",
          "name": "stdout",
          "text": [
            "Qual seu primeiro nome? Camille\n",
            "Qual seu sobrenome? Vicente\n",
            "Camille Vicente\n"
          ]
        }
      ]
    },
    {
      "cell_type": "code",
      "source": [
        "questao ()"
      ],
      "metadata": {
        "colab": {
          "base_uri": "https://localhost:8080/"
        },
        "id": "_xMVfAYcXpHo",
        "outputId": "31625655-1987-4be7-9c5a-06f6be7a5a9a"
      },
      "execution_count": 15,
      "outputs": [
        {
          "output_type": "stream",
          "name": "stdout",
          "text": [
            "Escrever seu nome aqui:   Camille\n",
            "O nome escrito é igual a Camille\n"
          ]
        }
      ]
    }
  ]
}